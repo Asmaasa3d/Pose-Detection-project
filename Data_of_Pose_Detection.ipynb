{
  "cells": [
    {
      "cell_type": "markdown",
      "metadata": {
        "id": "view-in-github",
        "colab_type": "text"
      },
      "source": [
        "<a href=\"https://colab.research.google.com/github/Asmaasa3d/Pose-Detection-project/blob/main/Data_of_Pose_Detection.ipynb\" target=\"_parent\"><img src=\"https://colab.research.google.com/assets/colab-badge.svg\" alt=\"Open In Colab\"/></a>"
      ]
    },
    {
      "cell_type": "markdown",
      "source": [
        "## All data to csv file"
      ],
      "metadata": {
        "id": "TyHbiGsMEby4"
      }
    },
    {
      "cell_type": "code",
      "execution_count": null,
      "metadata": {
        "id": "accm4IbDALPe"
      },
      "outputs": [],
      "source": [
        "#  https://github.com/natanielruiz/deep-head-pose.git"
      ]
    },
    {
      "cell_type": "code",
      "execution_count": null,
      "metadata": {
        "id": "DtzHtUvZG84u"
      },
      "outputs": [],
      "source": [
        "!unzip /content/drive/MyDrive/AFLW2000-3D.zip"
      ]
    },
    {
      "cell_type": "code",
      "execution_count": 1,
      "metadata": {
        "id": "0SfnCBu2Emcr"
      },
      "outputs": [],
      "source": [
        "import numpy as np\n",
        "import os\n",
        "import scipy.io as sio\n",
        "import cv2\n",
        "import math\n",
        "from math import cos, sin\n",
        "import dlib\n",
        "import glob\n",
        "from pathlib import Path\n",
        "import pandas as pd\n",
        "from PIL import Image, ImageFilter"
      ]
    },
    {
      "cell_type": "code",
      "execution_count": null,
      "metadata": {
        "id": "li2RzCyrKkmr"
      },
      "outputs": [],
      "source": [
        "mylist = [Path(f).stem for f in glob.glob(\"/content/AFLW2000/*.mat\")]"
      ]
    },
    {
      "cell_type": "code",
      "execution_count": 2,
      "metadata": {
        "id": "YKPbatzBJGp-"
      },
      "outputs": [],
      "source": [
        "def get_list_from_filenames(file_path):\n",
        "    # input:    relative path to .txt file with file names\n",
        "    # output:   list of relative path names\n",
        "    lines = [Path(f).stem for f in glob.glob(file_path)]\n",
        "    return lines\n"
      ]
    },
    {
      "cell_type": "code",
      "execution_count": 5,
      "metadata": {
        "id": "eGcF6puQb2iB"
      },
      "outputs": [],
      "source": [
        "def get_pt2d_from_mat(mat_path):\n",
        "    # Get 2D landmarks\n",
        "    mat = sio.loadmat(mat_path)\n",
        "    pt2d = mat['pt2d']\n",
        "    return pt2d"
      ]
    },
    {
      "cell_type": "code",
      "source": [
        "def get_ypr_from_mat(mat_path):\n",
        "    # Get yaw, pitch, roll from .mat annotation.\n",
        "    # They are in radians\n",
        "    mat = sio.loadmat(mat_path)\n",
        "    # [pitch yaw roll tdx tdy tdz scale_factor]\n",
        "    pre_pose_params = mat['Pose_Para'][0]\n",
        "    # Get [pitch, yaw, roll]\n",
        "    pose_params = pre_pose_params[:3]\n",
        "    return pose_params"
      ],
      "metadata": {
        "id": "tSCZx9f8ZD4A"
      },
      "execution_count": 6,
      "outputs": []
    },
    {
      "cell_type": "code",
      "execution_count": 7,
      "metadata": {
        "id": "zcZkcS52ksd4"
      },
      "outputs": [],
      "source": [
        "class AFLW2000():\n",
        "    def __init__(self, data_dir,file_path, img_ext='.jpg', annot_ext='.mat', image_mode='RGB'):\n",
        "        self.data_dir = data_dir\n",
        "        self.file_path = file_path\n",
        "        self.img_ext = img_ext\n",
        "        self.annot_ext = annot_ext\n",
        "\n",
        "        filename_list = get_list_from_filenames(data_dir)\n",
        "        filename_list.sort()\n",
        "        self.X_train = filename_list\n",
        "        self.y_train = filename_list\n",
        "        self.image_mode = image_mode\n",
        "        self.length = len(filename_list)\n",
        "\n",
        "    def __getitem__(self, index):\n",
        "        img = Image.open(os.path.join(self.file_path,self.X_train[index] + self.img_ext))\n",
        "        img = img.convert(self.image_mode)\n",
        "        mat_path = os.path.join(self.file_path,self.y_train[index] + self.annot_ext)\n",
        "\n",
        "        # Crop the face loosely\n",
        "        pt2d = get_pt2d_from_mat(mat_path)\n",
        "\n",
        "        x_min = min(pt2d[0,:])\n",
        "        y_min = min(pt2d[1,:])\n",
        "        x_max = max(pt2d[0,:])\n",
        "        y_max = max(pt2d[1,:])\n",
        "\n",
        "        k = 0.20\n",
        "        x_min -= 2 * k * abs(x_max - x_min)\n",
        "        y_min -= 2 * k * abs(y_max - y_min)\n",
        "        x_max += 2 * k * abs(x_max - x_min)\n",
        "        y_max += 0.6 * k * abs(y_max - y_min)\n",
        "        img = img.crop((int(x_min), int(y_min), int(x_max), int(y_max)))\n",
        "\n",
        "        # We get the pose in radians\n",
        "        pose = get_ypr_from_mat(mat_path)\n",
        "        # And convert to degrees.\n",
        "        pitch = pose[0] * 180 / np.pi\n",
        "        yaw = pose[1] * 180 / np.pi\n",
        "        roll = pose[2] * 180 / np.pi\n",
        "        # Bin values\n",
        "        bins = np.array(range(-99, 102, 3))\n",
        "        labels =np.digitize([yaw, pitch, roll], bins) - 1\n",
        "        cont_labels = [yaw, pitch, roll]\n",
        "\n",
        "        # if self.transform is not None:\n",
        "        #     img = self.transform(img)\n",
        "        # return cont_labels\n",
        "        return img, labels, cont_labels, self.X_train[index]\n",
        "\n",
        "    def __len__(self):\n",
        "        # 2,000\n",
        "        return self.length\n",
        "\n",
        "\n",
        "\n",
        "\n"
      ]
    },
    {
      "cell_type": "code",
      "execution_count": null,
      "metadata": {
        "id": "S-Aja_REF8Vc"
      },
      "outputs": [],
      "source": [
        "demo=AFLW2000(\"/content/AFLW2000/*.mat\",'/content/AFLW2000/')"
      ]
    },
    {
      "cell_type": "code",
      "execution_count": null,
      "metadata": {
        "id": "1F4b5YuUVjor"
      },
      "outputs": [],
      "source": [
        ""
      ]
    },
    {
      "cell_type": "code",
      "execution_count": null,
      "metadata": {
        "id": "luFkrr5dTrZ6"
      },
      "outputs": [],
      "source": [
        "features=[]\n",
        "labels=[]\n",
        "imgs=[]\n",
        "for i in range(2000):\n",
        "  features.append(demo.__getitem__(i)[1])\n",
        "  x = np.array(demo.__getitem__(i)[2], dtype=np.float32)\n",
        "  labels.append(x)\n",
        "  imgs.append(demo.__getitem__(i)[3])\n",
        "\n"
      ]
    },
    {
      "cell_type": "code",
      "execution_count": null,
      "metadata": {
        "colab": {
          "base_uri": "https://localhost:8080/"
        },
        "id": "XNMNS1aIaUsn",
        "outputId": "4c8a4a6b-467c-42dd-9a51-01ea4ed850ce"
      },
      "outputs": [
        {
          "output_type": "stream",
          "name": "stdout",
          "text": [
            "image00002\n",
            "[33 25 34]\n",
            "[  1.044306  -22.874239    4.9088855]\n"
          ]
        }
      ],
      "source": [
        "print(imgs[0])\n",
        "print(features[0])\n",
        "print(labels[0])"
      ]
    },
    {
      "cell_type": "code",
      "execution_count": null,
      "metadata": {
        "id": "r5eajBMOXCRj"
      },
      "outputs": [],
      "source": [
        "data = np.array(features, dtype=np.float32)"
      ]
    },
    {
      "cell_type": "code",
      "execution_count": null,
      "metadata": {
        "id": "Dx0SklQbYtgl"
      },
      "outputs": [],
      "source": [
        "labels = np.array(labels, dtype=np.float32)"
      ]
    },
    {
      "cell_type": "code",
      "execution_count": null,
      "metadata": {
        "id": "xzdJV6AYYxaW"
      },
      "outputs": [],
      "source": [
        "data1=np.concatenate((data,labels),axis=1)"
      ]
    },
    {
      "cell_type": "code",
      "execution_count": null,
      "metadata": {
        "id": "IZ6s-1T3cvbE"
      },
      "outputs": [],
      "source": [
        ""
      ]
    },
    {
      "cell_type": "code",
      "execution_count": null,
      "metadata": {
        "id": "LMXvX_6pVOTY"
      },
      "outputs": [],
      "source": [
        "\n",
        "df = pd.DataFrame(data1,columns=['x','y','z','yaw', 'pitch', 'roll']) #convert to a dataframe\n"
      ]
    },
    {
      "cell_type": "code",
      "execution_count": null,
      "metadata": {
        "id": "r4_Kchl7V-Q3"
      },
      "outputs": [],
      "source": [
        "df['img']=imgs"
      ]
    },
    {
      "cell_type": "code",
      "execution_count": null,
      "metadata": {
        "colab": {
          "base_uri": "https://localhost:8080/",
          "height": 424
        },
        "id": "_i0Bmi6_dJtX",
        "outputId": "f5ddc6be-c57f-4ae0-a7e9-e180fb45e510"
      },
      "outputs": [
        {
          "output_type": "execute_result",
          "data": {
            "text/plain": [
              "         x     y     z        yaw      pitch       roll         img\n",
              "0     33.0  25.0  34.0   1.044306 -22.874239   4.908885  image00002\n",
              "1     55.0  41.0  38.0  68.155243  26.932743  17.243670  image00004\n",
              "2     49.0  29.0  28.0  50.485413 -10.579652 -13.570645  image00006\n",
              "3     38.0  29.0  25.0  17.143373 -10.048455 -21.392782  image00008\n",
              "4     55.0  16.0  13.0  68.640549 -50.544582 -59.207973  image00010\n",
              "...    ...   ...   ...        ...        ...        ...         ...\n",
              "1995  31.0  29.0  35.0  -4.035367 -11.293093   6.022806  image04358\n",
              "1996   5.0  28.0  36.0 -81.288437 -13.327947  10.081747  image04363\n",
              "1997  60.0   5.0   4.0  82.005562 -82.961685 -86.483292  image04364\n",
              "1998  10.0  24.0  41.0 -68.249336 -24.090857  25.869925  image04365\n",
              "1999  29.0  32.0  32.0 -10.320475  -0.891077  -1.406394  image04375\n",
              "\n",
              "[2000 rows x 7 columns]"
            ],
            "text/html": [
              "\n",
              "  <div id=\"df-4f5df90f-3c43-4de0-8c56-9316a544e82f\">\n",
              "    <div class=\"colab-df-container\">\n",
              "      <div>\n",
              "<style scoped>\n",
              "    .dataframe tbody tr th:only-of-type {\n",
              "        vertical-align: middle;\n",
              "    }\n",
              "\n",
              "    .dataframe tbody tr th {\n",
              "        vertical-align: top;\n",
              "    }\n",
              "\n",
              "    .dataframe thead th {\n",
              "        text-align: right;\n",
              "    }\n",
              "</style>\n",
              "<table border=\"1\" class=\"dataframe\">\n",
              "  <thead>\n",
              "    <tr style=\"text-align: right;\">\n",
              "      <th></th>\n",
              "      <th>x</th>\n",
              "      <th>y</th>\n",
              "      <th>z</th>\n",
              "      <th>yaw</th>\n",
              "      <th>pitch</th>\n",
              "      <th>roll</th>\n",
              "      <th>img</th>\n",
              "    </tr>\n",
              "  </thead>\n",
              "  <tbody>\n",
              "    <tr>\n",
              "      <th>0</th>\n",
              "      <td>33.0</td>\n",
              "      <td>25.0</td>\n",
              "      <td>34.0</td>\n",
              "      <td>1.044306</td>\n",
              "      <td>-22.874239</td>\n",
              "      <td>4.908885</td>\n",
              "      <td>image00002</td>\n",
              "    </tr>\n",
              "    <tr>\n",
              "      <th>1</th>\n",
              "      <td>55.0</td>\n",
              "      <td>41.0</td>\n",
              "      <td>38.0</td>\n",
              "      <td>68.155243</td>\n",
              "      <td>26.932743</td>\n",
              "      <td>17.243670</td>\n",
              "      <td>image00004</td>\n",
              "    </tr>\n",
              "    <tr>\n",
              "      <th>2</th>\n",
              "      <td>49.0</td>\n",
              "      <td>29.0</td>\n",
              "      <td>28.0</td>\n",
              "      <td>50.485413</td>\n",
              "      <td>-10.579652</td>\n",
              "      <td>-13.570645</td>\n",
              "      <td>image00006</td>\n",
              "    </tr>\n",
              "    <tr>\n",
              "      <th>3</th>\n",
              "      <td>38.0</td>\n",
              "      <td>29.0</td>\n",
              "      <td>25.0</td>\n",
              "      <td>17.143373</td>\n",
              "      <td>-10.048455</td>\n",
              "      <td>-21.392782</td>\n",
              "      <td>image00008</td>\n",
              "    </tr>\n",
              "    <tr>\n",
              "      <th>4</th>\n",
              "      <td>55.0</td>\n",
              "      <td>16.0</td>\n",
              "      <td>13.0</td>\n",
              "      <td>68.640549</td>\n",
              "      <td>-50.544582</td>\n",
              "      <td>-59.207973</td>\n",
              "      <td>image00010</td>\n",
              "    </tr>\n",
              "    <tr>\n",
              "      <th>...</th>\n",
              "      <td>...</td>\n",
              "      <td>...</td>\n",
              "      <td>...</td>\n",
              "      <td>...</td>\n",
              "      <td>...</td>\n",
              "      <td>...</td>\n",
              "      <td>...</td>\n",
              "    </tr>\n",
              "    <tr>\n",
              "      <th>1995</th>\n",
              "      <td>31.0</td>\n",
              "      <td>29.0</td>\n",
              "      <td>35.0</td>\n",
              "      <td>-4.035367</td>\n",
              "      <td>-11.293093</td>\n",
              "      <td>6.022806</td>\n",
              "      <td>image04358</td>\n",
              "    </tr>\n",
              "    <tr>\n",
              "      <th>1996</th>\n",
              "      <td>5.0</td>\n",
              "      <td>28.0</td>\n",
              "      <td>36.0</td>\n",
              "      <td>-81.288437</td>\n",
              "      <td>-13.327947</td>\n",
              "      <td>10.081747</td>\n",
              "      <td>image04363</td>\n",
              "    </tr>\n",
              "    <tr>\n",
              "      <th>1997</th>\n",
              "      <td>60.0</td>\n",
              "      <td>5.0</td>\n",
              "      <td>4.0</td>\n",
              "      <td>82.005562</td>\n",
              "      <td>-82.961685</td>\n",
              "      <td>-86.483292</td>\n",
              "      <td>image04364</td>\n",
              "    </tr>\n",
              "    <tr>\n",
              "      <th>1998</th>\n",
              "      <td>10.0</td>\n",
              "      <td>24.0</td>\n",
              "      <td>41.0</td>\n",
              "      <td>-68.249336</td>\n",
              "      <td>-24.090857</td>\n",
              "      <td>25.869925</td>\n",
              "      <td>image04365</td>\n",
              "    </tr>\n",
              "    <tr>\n",
              "      <th>1999</th>\n",
              "      <td>29.0</td>\n",
              "      <td>32.0</td>\n",
              "      <td>32.0</td>\n",
              "      <td>-10.320475</td>\n",
              "      <td>-0.891077</td>\n",
              "      <td>-1.406394</td>\n",
              "      <td>image04375</td>\n",
              "    </tr>\n",
              "  </tbody>\n",
              "</table>\n",
              "<p>2000 rows × 7 columns</p>\n",
              "</div>\n",
              "      <button class=\"colab-df-convert\" onclick=\"convertToInteractive('df-4f5df90f-3c43-4de0-8c56-9316a544e82f')\"\n",
              "              title=\"Convert this dataframe to an interactive table.\"\n",
              "              style=\"display:none;\">\n",
              "        \n",
              "  <svg xmlns=\"http://www.w3.org/2000/svg\" height=\"24px\"viewBox=\"0 0 24 24\"\n",
              "       width=\"24px\">\n",
              "    <path d=\"M0 0h24v24H0V0z\" fill=\"none\"/>\n",
              "    <path d=\"M18.56 5.44l.94 2.06.94-2.06 2.06-.94-2.06-.94-.94-2.06-.94 2.06-2.06.94zm-11 1L8.5 8.5l.94-2.06 2.06-.94-2.06-.94L8.5 2.5l-.94 2.06-2.06.94zm10 10l.94 2.06.94-2.06 2.06-.94-2.06-.94-.94-2.06-.94 2.06-2.06.94z\"/><path d=\"M17.41 7.96l-1.37-1.37c-.4-.4-.92-.59-1.43-.59-.52 0-1.04.2-1.43.59L10.3 9.45l-7.72 7.72c-.78.78-.78 2.05 0 2.83L4 21.41c.39.39.9.59 1.41.59.51 0 1.02-.2 1.41-.59l7.78-7.78 2.81-2.81c.8-.78.8-2.07 0-2.86zM5.41 20L4 18.59l7.72-7.72 1.47 1.35L5.41 20z\"/>\n",
              "  </svg>\n",
              "      </button>\n",
              "      \n",
              "  <style>\n",
              "    .colab-df-container {\n",
              "      display:flex;\n",
              "      flex-wrap:wrap;\n",
              "      gap: 12px;\n",
              "    }\n",
              "\n",
              "    .colab-df-convert {\n",
              "      background-color: #E8F0FE;\n",
              "      border: none;\n",
              "      border-radius: 50%;\n",
              "      cursor: pointer;\n",
              "      display: none;\n",
              "      fill: #1967D2;\n",
              "      height: 32px;\n",
              "      padding: 0 0 0 0;\n",
              "      width: 32px;\n",
              "    }\n",
              "\n",
              "    .colab-df-convert:hover {\n",
              "      background-color: #E2EBFA;\n",
              "      box-shadow: 0px 1px 2px rgba(60, 64, 67, 0.3), 0px 1px 3px 1px rgba(60, 64, 67, 0.15);\n",
              "      fill: #174EA6;\n",
              "    }\n",
              "\n",
              "    [theme=dark] .colab-df-convert {\n",
              "      background-color: #3B4455;\n",
              "      fill: #D2E3FC;\n",
              "    }\n",
              "\n",
              "    [theme=dark] .colab-df-convert:hover {\n",
              "      background-color: #434B5C;\n",
              "      box-shadow: 0px 1px 3px 1px rgba(0, 0, 0, 0.15);\n",
              "      filter: drop-shadow(0px 1px 2px rgba(0, 0, 0, 0.3));\n",
              "      fill: #FFFFFF;\n",
              "    }\n",
              "  </style>\n",
              "\n",
              "      <script>\n",
              "        const buttonEl =\n",
              "          document.querySelector('#df-4f5df90f-3c43-4de0-8c56-9316a544e82f button.colab-df-convert');\n",
              "        buttonEl.style.display =\n",
              "          google.colab.kernel.accessAllowed ? 'block' : 'none';\n",
              "\n",
              "        async function convertToInteractive(key) {\n",
              "          const element = document.querySelector('#df-4f5df90f-3c43-4de0-8c56-9316a544e82f');\n",
              "          const dataTable =\n",
              "            await google.colab.kernel.invokeFunction('convertToInteractive',\n",
              "                                                     [key], {});\n",
              "          if (!dataTable) return;\n",
              "\n",
              "          const docLinkHtml = 'Like what you see? Visit the ' +\n",
              "            '<a target=\"_blank\" href=https://colab.research.google.com/notebooks/data_table.ipynb>data table notebook</a>'\n",
              "            + ' to learn more about interactive tables.';\n",
              "          element.innerHTML = '';\n",
              "          dataTable['output_type'] = 'display_data';\n",
              "          await google.colab.output.renderOutput(dataTable, element);\n",
              "          const docLink = document.createElement('div');\n",
              "          docLink.innerHTML = docLinkHtml;\n",
              "          element.appendChild(docLink);\n",
              "        }\n",
              "      </script>\n",
              "    </div>\n",
              "  </div>\n",
              "  "
            ]
          },
          "metadata": {},
          "execution_count": 164
        }
      ],
      "source": [
        "df"
      ]
    },
    {
      "cell_type": "code",
      "execution_count": null,
      "metadata": {
        "id": "0yOaa3WIdar4"
      },
      "outputs": [],
      "source": [
        "df.to_csv(\"testfile\",index=False) #save to file\n",
        "\n",
        "#Then, to reload:\n",
        "df = pd.read_csv(\"testfile\")"
      ]
    },
    {
      "cell_type": "markdown",
      "metadata": {
        "id": "j4QMt2BYdxY_"
      },
      "source": [
        "##Demo on one image"
      ]
    },
    {
      "cell_type": "code",
      "execution_count": null,
      "metadata": {
        "id": "SpmFFuPHCQql"
      },
      "outputs": [],
      "source": [
        "def getitem(index,mat_path,image_mode='RGB'):\n",
        "        ## index jpg inamge\n",
        "        ##mat_path .mat image\n",
        "        img = Image.open(index)\n",
        "        img = img.convert(image_mode)\n",
        "    \n",
        "        # Crop the face loosely\n",
        "        pt2d = get_pt2d_from_mat(mat_path)\n",
        "\n",
        "        x_min = min(pt2d[0,:])\n",
        "        y_min = min(pt2d[1,:])\n",
        "        x_max = max(pt2d[0,:])\n",
        "        y_max = max(pt2d[1,:])\n",
        "\n",
        "        k = 0.20\n",
        "        x_min -= 2 * k * abs(x_max - x_min)\n",
        "        y_min -= 2 * k * abs(y_max - y_min)\n",
        "        x_max += 2 * k * abs(x_max - x_min)\n",
        "        y_max += 0.6 * k * abs(y_max - y_min)\n",
        "        img = img.crop((int(x_min), int(y_min), int(x_max), int(y_max)))\n",
        "\n",
        "        # We get the pose in radians\n",
        "        pose = get_ypr_from_mat(mat_path)\n",
        "        # And convert to degrees.\n",
        "        pitch = pose[0] * 180 / np.pi\n",
        "        yaw = pose[1] * 180 / np.pi\n",
        "        roll = pose[2] * 180 / np.pi\n",
        "        # Bin values\n",
        "        bins = np.array(range(-99, 102, 3))\n",
        "        labels =np.digitize([yaw, pitch, roll], bins) - 1\n",
        "        cont_labels = [yaw, pitch, roll]\n",
        "\n",
        "        # if transform is not None:\n",
        "        #     img = transform(img)\n",
        "\n",
        "        return img, labels, cont_labels, index\n"
      ]
    },
    {
      "cell_type": "code",
      "execution_count": null,
      "metadata": {
        "colab": {
          "base_uri": "https://localhost:8080/"
        },
        "id": "9dg7Mim2-ZbX",
        "outputId": "8848c63c-708f-44e2-ec07-73aefeed246f"
      },
      "outputs": [
        {
          "output_type": "execute_result",
          "data": {
            "text/plain": [
              "(<PIL.Image.Image image mode=RGB size=628x427 at 0x7F74B5043850>,\n",
              " array([33, 25, 34]),\n",
              " [1.044306042017331, -22.874238643575588, 4.908885557905314],\n",
              " '/content/AFLW2000/image00002.jpg')"
            ]
          },
          "metadata": {},
          "execution_count": 25
        }
      ],
      "source": [
        "getitem('/content/AFLW2000/image00002.jpg','/content/AFLW2000/image00002.mat')"
      ]
    },
    {
      "cell_type": "markdown",
      "source": [
        "## draw axis"
      ],
      "metadata": {
        "id": "TCkUSfW7361D"
      }
    },
    {
      "cell_type": "code",
      "execution_count": 8,
      "metadata": {
        "id": "YuPjiEQwRHpq"
      },
      "outputs": [],
      "source": [
        "from google.colab.patches import cv2_imshow"
      ]
    },
    {
      "cell_type": "code",
      "execution_count": 10,
      "metadata": {
        "id": "htyuaRkt-ZuN"
      },
      "outputs": [],
      "source": [
        "def draw_axis(img, yaw, pitch, roll, tdx=None, tdy=None, size = 100):\n",
        "\n",
        "    pitch = pitch * np.pi / 180\n",
        "    yaw = -(yaw * np.pi / 180)\n",
        "    roll = roll * np.pi / 180\n",
        "\n",
        "    if tdx != None and tdy != None:\n",
        "        tdx = tdx\n",
        "        tdy = tdy\n",
        "    else:\n",
        "        height, width = img.shape[:2]\n",
        "        tdx = width / 2\n",
        "        tdy = height / 2\n",
        "\n",
        "    # X-Axis pointing to right. drawn in red\n",
        "    x1 = size * (cos(yaw) * cos(roll)) + tdx\n",
        "    y1 = size * (cos(pitch) * sin(roll) + cos(roll) * sin(pitch) * sin(yaw)) + tdy\n",
        "\n",
        "    # Y-Axis | drawn in green\n",
        "    #        v\n",
        "    x2 = size * (-cos(yaw) * sin(roll)) + tdx\n",
        "    y2 = size * (cos(pitch) * cos(roll) - sin(pitch) * sin(yaw) * sin(roll)) + tdy\n",
        "\n",
        "    # Z-Axis (out of the screen) drawn in blue\n",
        "    x3 = size * (sin(yaw)) + tdx\n",
        "    y3 = size * (-cos(yaw) * sin(pitch)) + tdy\n",
        "\n",
        "    cv2.line(img, (int(tdx), int(tdy)), (int(x1),int(y1)),(0,0,255),3)\n",
        "    cv2.line(img, (int(tdx), int(tdy)), (int(x2),int(y2)),(0,255,0),3)\n",
        "    cv2.line(img, (int(tdx), int(tdy)), (int(x3),int(y3)),(255,0,0),2)\n",
        "\n",
        "    return img"
      ]
    },
    {
      "cell_type": "code",
      "execution_count": 9,
      "metadata": {
        "colab": {
          "base_uri": "https://localhost:8080/"
        },
        "id": "quS4pc9cHITz",
        "outputId": "c4d9852a-7a95-4764-9b4e-83bb97d719cb"
      },
      "outputs": [
        {
          "output_type": "stream",
          "name": "stdout",
          "text": [
            "--2022-05-04 09:57:25--  http://arunponnusamy.com/files/mmod_human_face_detector.dat\n",
            "Resolving arunponnusamy.com (arunponnusamy.com)... 185.199.108.153, 185.199.111.153, 185.199.110.153, ...\n",
            "Connecting to arunponnusamy.com (arunponnusamy.com)|185.199.108.153|:80... connected.\n",
            "HTTP request sent, awaiting response... 301 Moved Permanently\n",
            "Location: https://www.arunponnusamy.com/files/mmod_human_face_detector.dat [following]\n",
            "--2022-05-04 09:57:25--  https://www.arunponnusamy.com/files/mmod_human_face_detector.dat\n",
            "Resolving www.arunponnusamy.com (www.arunponnusamy.com)... 185.199.109.153, 185.199.110.153, 185.199.108.153, ...\n",
            "Connecting to www.arunponnusamy.com (www.arunponnusamy.com)|185.199.109.153|:443... connected.\n",
            "HTTP request sent, awaiting response... 200 OK\n",
            "Length: 729940 (713K) [application/octet-stream]\n",
            "Saving to: ‘mmod_human_face_detector.dat’\n",
            "\n",
            "mmod_human_face_det 100%[===================>] 712.83K  --.-KB/s    in 0.02s   \n",
            "\n",
            "2022-05-04 09:57:26 (38.0 MB/s) - ‘mmod_human_face_detector.dat’ saved [729940/729940]\n",
            "\n"
          ]
        }
      ],
      "source": [
        "!wget http://arunponnusamy.com/files/mmod_human_face_detector.dat"
      ]
    },
    {
      "cell_type": "code",
      "execution_count": 11,
      "metadata": {
        "id": "1bmNKcHGyZnx"
      },
      "outputs": [],
      "source": [
        "cv2.destroyAllWindows()"
      ]
    },
    {
      "cell_type": "code",
      "execution_count": 12,
      "metadata": {
        "id": "oMMlV2DBFlRH"
      },
      "outputs": [],
      "source": [
        "image='/content/image03586.jpg'"
      ]
    },
    {
      "cell_type": "code",
      "execution_count": 13,
      "metadata": {
        "id": "ThGxJBORGBr_"
      },
      "outputs": [],
      "source": [
        "frame = cv2.imread(image)\n"
      ]
    },
    {
      "cell_type": "code",
      "source": [
        "# import cv2\n",
        "\n",
        "# cv2_imshow(frame)"
      ],
      "metadata": {
        "id": "fYw3atvnUtmb"
      },
      "execution_count": 14,
      "outputs": []
    },
    {
      "cell_type": "code",
      "execution_count": 15,
      "metadata": {
        "id": "o61Kq-0HLkl5"
      },
      "outputs": [],
      "source": [
        "cv2_frame = cv2.cvtColor(frame,cv2.COLOR_BGR2RGB)"
      ]
    },
    {
      "cell_type": "code",
      "execution_count": 16,
      "metadata": {
        "id": "mXJugBntJWFF"
      },
      "outputs": [],
      "source": [
        "model='/content/mmod_human_face_detector.dat'"
      ]
    },
    {
      "cell_type": "code",
      "execution_count": 17,
      "metadata": {
        "id": "w1atnzCQJU_w"
      },
      "outputs": [],
      "source": [
        "cnn_face_detector = dlib.cnn_face_detection_model_v1(model)"
      ]
    },
    {
      "cell_type": "code",
      "execution_count": 18,
      "metadata": {
        "id": "gqDcbl8NKdxZ"
      },
      "outputs": [],
      "source": [
        "dets = cnn_face_detector(cv2_frame, 1)"
      ]
    },
    {
      "cell_type": "code",
      "source": [
        "cv2.destroyAllWindows()\n"
      ],
      "metadata": {
        "id": "vMJwy4cDDG93"
      },
      "execution_count": 19,
      "outputs": []
    },
    {
      "cell_type": "code",
      "execution_count": 20,
      "metadata": {
        "id": "6Fjup33hI9KP",
        "colab": {
          "base_uri": "https://localhost:8080/",
          "height": 292
        },
        "outputId": "4aeb1355-a0cd-4347-f371-e476982eaf2c"
      },
      "outputs": [
        {
          "output_type": "display_data",
          "data": {
            "text/plain": [
              "<PIL.Image.Image image mode=RGB size=275x275 at 0x7FEE4A3F5850>"
            ],
            "image/png": "[encoded data removed]"
          },
          "metadata": {}
        }
      ],
      "source": [
        "\n",
        "\n",
        "for idx, det in enumerate(dets):\n",
        "            # Get x_min, y_min, x_max, y_max, conf\n",
        "            x_min = det.rect.left()\n",
        "            y_min = det.rect.top()\n",
        "            x_max = det.rect.right()\n",
        "            y_max = det.rect.bottom()\n",
        "            conf = det.confidence\n",
        "\n",
        "            # if conf > 1.0:\n",
        "                # bbox_width = abs(x_max - x_min)\n",
        "                # bbox_height = abs(y_max - y_min)\n",
        "            bbox_height, bbox_width = frame.shape[:2]\n",
        "            # x_min -= 2 * bbox_width /2\n",
        "            # x_max += 2 * bbox_width / 2\n",
        "            # y_min -= 3 * bbox_height / 2\n",
        "            # y_max += bbox_height /2\n",
        "          \n",
        "            \n",
        "            # x_min = max(x_min, 0); y_min = max(y_min, 0)\n",
        "            # x_max = min(frame.shape[1], x_max); y_max = min(frame.shape[0], y_max)\n",
        "\n",
        "            cv2.destroyAllWindows()\n",
        "            cv2_imshow(draw_axis(frame,9,-24 ,8\n",
        ")\n",
        "            )\n",
        "cv2.destroyAllWindows()\n"
      ]
    },
    {
      "cell_type": "code",
      "source": [
        ""
      ],
      "metadata": {
        "id": "ldwfM-WM-Akg"
      },
      "execution_count": null,
      "outputs": []
    },
    {
      "cell_type": "code",
      "execution_count": null,
      "metadata": {
        "id": "A0ed1RwWQ_Wk"
      },
      "outputs": [],
      "source": [
        ""
      ]
    }
  ],
  "metadata": {
    "accelerator": "GPU",
    "colab": {
      "name": "Data of Pose Detection",
      "provenance": [],
      "include_colab_link": true
    },
    "kernelspec": {
      "display_name": "Python 3",
      "name": "python3"
    },
    "language_info": {
      "name": "python"
    }
  },
  "nbformat": 4,
  "nbformat_minor": 0
}